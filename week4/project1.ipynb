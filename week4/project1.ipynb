{
 "cells": [
  {
   "cell_type": "markdown",
   "metadata": {
    "collapsed": true,
    "pycharm": {
     "name": "#%% md\n"
    }
   },
   "source": [
    "## Data 620 - Project 1\n",
    "\n",
    "Baron Curtin, Heither Geiger"
   ]
  },
  {
   "cell_type": "markdown",
   "source": [
    "## Introduction\n",
    "\n",
    "For this project, we will be using data containing the networks of 10 different Facebook users (aka the \"ego nodes\"). This data will be downloaded from the Stanford Large Network Dataset Collection. The dataset is available here: https://snap.stanford.edu/data/ego-Facebook.html.\n",
    "\n",
    "Here, each node ID represents a Facebook user.\n",
    "\n",
    "For each of the 10 different networks (denoted by the ID of the user at the center of the network), we have the following files:\n",
    "\n",
    "\\*.edges - Each line will have two columns. The node IDs in column 1 and column 2 are connected to each other and to the ego node.\n",
    "\n",
    "\\*.circles - Each line will have an ID column (i.e. circle0, circle1, and so on), followed by anywhere from one to 100+ additional columns. The circles represent groups of users. Each node ID in every field of every line is connected to the ego node.\n",
    "\n",
    "\\*.featnames - Gives more info about which feature corresponds to each feature column. For example, \"8 education;classes;id;anonymized feature 8\" means that column 9 of the features file (with 0-based indexing) corresponds to an anonymized feature related to education (specifically, classes taken). \n",
    "\n",
    "\\*.egofeat and \\*.feat - For each feature explained in featnames, give whether the feature is true or false in each user for the ego node and all other nodes respectively."
   ],
   "metadata": {
    "collapsed": false
   }
  },
  {
   "cell_type": "code",
   "execution_count": 10,
   "outputs": [],
   "source": [
    "# load libraries\n",
    "import networkx as nx\n",
    "import matplotlib.pyplot as plt\n",
    "import numpy as np\n",
    "import pandas as pd\n",
    "from pathlib import Path\n",
    "from itertools import combinations\n",
    "\n",
    "# additional jupyter setup\n",
    "from IPython.core.interactiveshell import InteractiveShell\n",
    "InteractiveShell.ast_node_interactivity = \"all\"\n",
    "%matplotlib inline"
   ],
   "metadata": {
    "collapsed": false,
    "pycharm": {
     "name": "#%%\n",
     "is_executing": false
    }
   }
  },
  {
   "cell_type": "markdown",
   "source": [
    "## Data Loading/Parsing\n",
    "\n",
    "In the following code cells, we will be loading the data into Python and preparing it to be visualized with NetworkX\n"
   ],
   "metadata": {
    "collapsed": false,
    "pycharm": {
     "name": "#%% md\n"
    }
   }
  },
  {
   "cell_type": "code",
   "execution_count": 11,
   "outputs": [],
   "source": [
    "fb_path = Path('../week3/facebook')\n",
    "file_types = ('circles', 'edges', 'egofeat', 'feat', 'featnames')\n",
    "\n",
    "# load all files into python dictionary by file type\n",
    "files = {file_type: [(f.stem, f) for f in fb_path.glob(f'*{file_type}')] for file_type in file_types}"
   ],
   "metadata": {
    "collapsed": false,
    "pycharm": {
     "name": "#%%\n",
     "is_executing": false
    }
   }
  },
  {
   "cell_type": "markdown",
   "source": [
    "Now that all of the files are loaded, we need to create a function that will parse each file appropriately\n"
   ],
   "metadata": {
    "collapsed": false,
    "pycharm": {
     "name": "#%% md\n"
    }
   }
  },
  {
   "cell_type": "markdown",
   "source": [
    "### File Parsing Functions"
   ],
   "metadata": {
    "collapsed": false,
    "pycharm": {
     "name": "#%% md\n"
    }
   }
  },
  {
   "cell_type": "code",
   "execution_count": 12,
   "outputs": [],
   "source": [
    "def circles_parser(lines='', **kwargs):\n",
    "    # circles files are tab delimited\n",
    "    info = [(int(kwargs['node']), int(n))\n",
    "            for l in lines \n",
    "            for n in l.split('\\t')[1:]\n",
    "            if l != '']\n",
    "    return info\n",
    "\n",
    "def edges_parser(lines='', **kwargs):\n",
    "    # edges files are separated by spaces\n",
    "    info = [x for l in lines\n",
    "            for x in combinations([*l.split(' '), kwargs['node']], 2)\n",
    "            if l != '']\n",
    "    return info\n",
    "\n",
    "def egofeat_parser(lines='', **kwargs):\n",
    "    # egofeat is separated by spaces\n",
    "    info = [x for l in lines\n",
    "            for x in l.split(' ')\n",
    "            if l != '']\n",
    "    return info\n",
    "\n",
    "def feat_parser(lines='', **kwargs):\n",
    "    # feat files are separated by spaces\n",
    "    info = [(l.split(' ')[0], l.split(' ')[1:]) \n",
    "            for l in lines\n",
    "            if l != '']\n",
    "    return info\n",
    "\n",
    "def featnames_parser(lines='', **kwargs):\n",
    "    # featnames files are delimited by ;\n",
    "    # we will only use the first index and the last index of the featurename\n",
    "    # as there are inconsistencies in length\n",
    "    info = [(l.split(';')[0], l.split(';')[-1])\n",
    "            for l in lines]\n",
    "    return info\n",
    "\n",
    "\n",
    "# dictionary of file parsing functions for easy referencing later\n",
    "# using a dictionary will serve as a 'case' function\n",
    "file_parsers = {\n",
    "    'circles': circles_parser,\n",
    "    'edges': edges_parser,\n",
    "    'egofeat': egofeat_parser,\n",
    "    'feat': feat_parser,\n",
    "    'featnames': featnames_parser\n",
    "}"
   ],
   "metadata": {
    "collapsed": false,
    "pycharm": {
     "name": "#%%\n",
     "is_executing": false
    }
   }
  },
  {
   "cell_type": "code",
   "execution_count": 13,
   "outputs": [],
   "source": [
    "def parse_file(file_, node, file_type=''):\n",
    "    # basic error handling to make sure all required arguments are passed\n",
    "    if (file_ is None) | (node == '') | (file_type == ''):\n",
    "        raise ValueError('Unable to parse file without the required information')\n",
    "    \n",
    "    # get contents of the file\n",
    "    content = file_.read_text()\n",
    "    lines = content.split('\\n')\n",
    "    \n",
    "    # parse based on file type\n",
    "    info = file_parsers[file_type](lines, node=node)\n",
    "    return info"
   ],
   "metadata": {
    "collapsed": false,
    "pycharm": {
     "name": "#%%\n",
     "is_executing": false
    }
   }
  },
  {
   "cell_type": "code",
   "execution_count": 14,
   "outputs": [],
   "source": [
    "# we can use our created functions to create a new dictionary of parsed files\n",
    "parsed_files = {file_type: [parse_file(file_path, node, file_type) for node, file_path in list_of_files]\n",
    "                for file_type, list_of_files in files.items()}"
   ],
   "metadata": {
    "collapsed": false,
    "pycharm": {
     "name": "#%%\n",
     "is_executing": false
    }
   }
  },
  {
   "cell_type": "markdown",
   "source": [
    "## Graph Construction"
   ],
   "metadata": {
    "collapsed": false
   }
  },
  {
   "cell_type": "code",
   "execution_count": 15,
   "outputs": [],
   "source": [
    "g = nx.Graph()\n",
    "\n",
    "# add edges from all the edges files\n",
    "g.add_edges_from([y for x in parsed_files['circles']\n",
    "                  for y in x])\n",
    "\n",
    "# add edges from all the circles files\n",
    "g.add_edges_from([y for x in parsed_files['edges']\n",
    "                  for y in x])"
   ],
   "metadata": {
    "collapsed": false,
    "pycharm": {
     "name": "#%%\n",
     "is_executing": false
    }
   }
  },
  {
   "cell_type": "code",
   "execution_count": null,
   "outputs": [],
   "source": [
    "pos = nx.spring_layout(g)\n",
    "deg_centrality = nx.degree_centrality(g)\n",
    "node_color = [20000.0 * g.degree(v) for v in g]\n",
    "node_size = [v * 10000.0 for v in deg_centrality.values()]\n",
    "\n",
    "plt.figure(figsize=(20,20))\n",
    "nx.draw_networkx(g, pos=pos, with_labels=True, node_color=node_color, node_size=node_size)\n",
    "plt.axis('off')"
   ],
   "metadata": {
    "collapsed": false,
    "pycharm": {
     "name": "#%%\n",
     "is_executing": true
    }
   }
  }
 ],
 "metadata": {
  "kernelspec": {
   "display_name": "Python 3",
   "language": "python",
   "name": "python3"
  },
  "language_info": {
   "codemirror_mode": {
    "name": "ipython",
    "version": 2
   },
   "file_extension": ".py",
   "mimetype": "text/x-python",
   "name": "python",
   "nbconvert_exporter": "python",
   "pygments_lexer": "ipython2",
   "version": "2.7.6"
  },
  "pycharm": {
   "stem_cell": {
    "cell_type": "raw",
    "source": [],
    "metadata": {
     "collapsed": false
    }
   }
  }
 },
 "nbformat": 4,
 "nbformat_minor": 0
}