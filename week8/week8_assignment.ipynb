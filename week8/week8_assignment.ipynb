{
 "cells": [
  {
   "cell_type": "markdown",
   "metadata": {
    "collapsed": true,
    "pycharm": {
     "name": "#%% md\n"
    }
   },
   "source": [
    "# Data 620 - Week 8 Assignment (High Frequency Words)\n",
    "\n",
    "Baron Curtin, Heather Geiger"
   ]
  },
  {
   "cell_type": "code",
   "execution_count": 20,
   "outputs": [],
   "source": [
    "# load libraries\n",
    "from collections import Counter\n",
    "from IPython.core.interactiveshell import InteractiveShell\n",
    "\n",
    "import pandas as pd\n",
    "import numpy as np\n",
    "import matplotlib.pyplot as plt\n",
    "import seaborn as sns\n",
    "from nltk import regexp_tokenize\n",
    "\n",
    "# jupyter set up\n",
    "InteractiveShell.ast_node_interactivity = \"all\"\n",
    "%matplotlib inline"
   ],
   "metadata": {
    "collapsed": false,
    "pycharm": {
     "name": "#%%\n",
     "is_executing": false
    }
   }
  },
  {
   "cell_type": "markdown",
   "source": [
    "## Choose a Corpus of Interest\n",
    "The dataset we decided to go with is a corpus of headlines from *The Examiner*. *The Examiner* is a \"click-bait\" news site\n",
    "that innately draws its visitors from its headlines. The headlines must be interesting enough or controversial enough to\n",
    "reel in views. The dataset contains headlines from 2010-2015 and is formatted in two columns, date and headline.\n",
    "\n",
    "[The Examiner Dataset](https://www.kaggle.com/therohk/examine-the-examiner#examiner-date-text.csv)"
   ],
   "metadata": {
    "collapsed": false
   }
  },
  {
   "cell_type": "code",
   "execution_count": 21,
   "outputs": [],
   "source": [
    "# read in data\n",
    "data = pd.read_csv('./examiner-date-text.csv')"
   ],
   "metadata": {
    "collapsed": false,
    "pycharm": {
     "name": "#%%\n",
     "is_executing": false
    }
   }
  },
  {
   "cell_type": "markdown",
   "source": [
    "### Exploratory Analysis"
   ],
   "metadata": {
    "collapsed": false,
    "pycharm": {
     "name": "#%% md\n"
    }
   }
  },
  {
   "cell_type": "code",
   "execution_count": 22,
   "outputs": [
    {
     "data": {
      "text/plain": "   publish_date                                      headline_text\n0      20100101       100 Most Anticipated books releasing in 2010\n1      20100101       10 best films of 2009 - What's on your list?\n2      20100101  10 days of free admission at Lan Su Chinese Ga...\n3      20100101      10 PlayStation games to watch out for in 2010\n4      20100101  10 resolutions for a Happy New Year for you an...",
      "text/html": "<div>\n<style scoped>\n    .dataframe tbody tr th:only-of-type {\n        vertical-align: middle;\n    }\n\n    .dataframe tbody tr th {\n        vertical-align: top;\n    }\n\n    .dataframe thead th {\n        text-align: right;\n    }\n</style>\n<table border=\"1\" class=\"dataframe\">\n  <thead>\n    <tr style=\"text-align: right;\">\n      <th></th>\n      <th>publish_date</th>\n      <th>headline_text</th>\n    </tr>\n  </thead>\n  <tbody>\n    <tr>\n      <td>0</td>\n      <td>20100101</td>\n      <td>100 Most Anticipated books releasing in 2010</td>\n    </tr>\n    <tr>\n      <td>1</td>\n      <td>20100101</td>\n      <td>10 best films of 2009 - What's on your list?</td>\n    </tr>\n    <tr>\n      <td>2</td>\n      <td>20100101</td>\n      <td>10 days of free admission at Lan Su Chinese Ga...</td>\n    </tr>\n    <tr>\n      <td>3</td>\n      <td>20100101</td>\n      <td>10 PlayStation games to watch out for in 2010</td>\n    </tr>\n    <tr>\n      <td>4</td>\n      <td>20100101</td>\n      <td>10 resolutions for a Happy New Year for you an...</td>\n    </tr>\n  </tbody>\n</table>\n</div>"
     },
     "metadata": {},
     "output_type": "execute_result",
     "execution_count": 22
    },
    {
     "data": {
      "text/plain": "         publish_date                                      headline_text\n3089776      20151231  Which is better investment, Lego bricks or gol...\n3089777      20151231  Wild score three unanswered goals to defeat th...\n3089778      20151231  With NASA and Russia on the sidelines, Europe ...\n3089779      20151231  Wolf Pack battling opponents, officials on the...\n3089780      20151231          Writespace hosts all genre open mic night",
      "text/html": "<div>\n<style scoped>\n    .dataframe tbody tr th:only-of-type {\n        vertical-align: middle;\n    }\n\n    .dataframe tbody tr th {\n        vertical-align: top;\n    }\n\n    .dataframe thead th {\n        text-align: right;\n    }\n</style>\n<table border=\"1\" class=\"dataframe\">\n  <thead>\n    <tr style=\"text-align: right;\">\n      <th></th>\n      <th>publish_date</th>\n      <th>headline_text</th>\n    </tr>\n  </thead>\n  <tbody>\n    <tr>\n      <td>3089776</td>\n      <td>20151231</td>\n      <td>Which is better investment, Lego bricks or gol...</td>\n    </tr>\n    <tr>\n      <td>3089777</td>\n      <td>20151231</td>\n      <td>Wild score three unanswered goals to defeat th...</td>\n    </tr>\n    <tr>\n      <td>3089778</td>\n      <td>20151231</td>\n      <td>With NASA and Russia on the sidelines, Europe ...</td>\n    </tr>\n    <tr>\n      <td>3089779</td>\n      <td>20151231</td>\n      <td>Wolf Pack battling opponents, officials on the...</td>\n    </tr>\n    <tr>\n      <td>3089780</td>\n      <td>20151231</td>\n      <td>Writespace hosts all genre open mic night</td>\n    </tr>\n  </tbody>\n</table>\n</div>"
     },
     "metadata": {},
     "output_type": "execute_result",
     "execution_count": 22
    }
   ],
   "source": [
    "data.head()\n",
    "\n",
    "data.tail()"
   ],
   "metadata": {
    "collapsed": false,
    "pycharm": {
     "name": "#%%\n",
     "is_executing": false
    }
   }
  },
  {
   "cell_type": "code",
   "execution_count": 23,
   "outputs": [
    {
     "name": "stdout",
     "text": [
      "<class 'pandas.core.frame.DataFrame'>\nRangeIndex: 3089781 entries, 0 to 3089780\nData columns (total 2 columns):\npublish_date     int64\nheadline_text    object\ndtypes: int64(1), object(1)\nmemory usage: 47.1+ MB\n\n\nThere are 3,089,781 headlines in this dataset\n"
     ],
     "output_type": "stream"
    }
   ],
   "source": [
    "rows, cols = data.shape\n",
    "\n",
    "data.info()\n",
    "\n",
    "print('\\n')\n",
    "print(f'There are {rows:,} headlines in this dataset')"
   ],
   "metadata": {
    "collapsed": false,
    "pycharm": {
     "name": "#%%\n",
     "is_executing": false
    }
   }
  },
  {
   "cell_type": "markdown",
   "source": [
    "## How many total unique words are in the corpus? (Please feel free to define unique words in any interesting, defensible way).\n",
    "For this step, we will first need to tokenize all of the headlines. We will take the approach of tokenize each cell in the dataframe\n",
    "as well as creating a single variable that has all of the different headlines and tokenize that.\n",
    "\n",
    "We are defining unique tokens to be any single word, as well single punctuation marks, but only exclamations and questions.\n",
    "For a click-bait news site, these punctuations would draw more attention than a period or a hyphen."
   ],
   "metadata": {
    "collapsed": false
   }
  },
  {
   "cell_type": "markdown",
   "source": [
    "### Tokenize Headlines"
   ],
   "metadata": {
    "collapsed": false,
    "pycharm": {
     "name": "#%% md\n"
    }
   }
  },
  {
   "cell_type": "code",
   "execution_count": 42,
   "outputs": [],
   "source": [
    "# lets first convert the datestring to an actual date\n",
    "token_df = data.copy()\n",
    "token_df['date'] = pd.to_datetime(token_df['publish_date'], format='%Y%m%d')\n",
    "token_df['day'] = token_df['date'].dt.day\n",
    "token_df['month'] = token_df['date'].dt.month\n",
    "token_df['year'] = token_df['date'].dt.year"
   ],
   "metadata": {
    "collapsed": false,
    "pycharm": {
     "name": "#%%\n",
     "is_executing": false
    }
   }
  },
  {
   "cell_type": "code",
   "execution_count": 43,
   "outputs": [],
   "source": [
    "# regex pattern for tokenizing words and aforementioned punctuation (?!)\n",
    "pattern = r'\\w+|[\\?!]'\n",
    "\n",
    "token_df['tokens'] = token_df['headline_text'].apply(lambda x: regexp_tokenize(str(x).lower(), pattern))\n",
    "token_df['counted_tokens'] = token_df['tokens'].apply(lambda x: Counter(x))"
   ],
   "metadata": {
    "collapsed": false,
    "pycharm": {
     "name": "#%%\n",
     "is_executing": false
    }
   }
  },
  {
   "cell_type": "code",
   "execution_count": 44,
   "outputs": [],
   "source": [
    "# create single variable with all headlines\n",
    "# lowercase all tokens to ensure consistency\n",
    "all_headlines = token_df['headline_text'].str.lower().str.cat(sep=' ')\n",
    "all_words = regexp_tokenize(all_headlines, pattern)"
   ],
   "metadata": {
    "collapsed": false,
    "pycharm": {
     "name": "#%%\n",
     "is_executing": false
    }
   }
  },
  {
   "cell_type": "code",
   "execution_count": 45,
   "outputs": [],
   "source": [
    "# use counter class to count all tokens\n",
    "unique_tokens = set(all_words)\n",
    "counted_tokens = Counter(all_words)"
   ],
   "metadata": {
    "collapsed": false,
    "pycharm": {
     "name": "#%%\n",
     "is_executing": false
    }
   }
  },
  {
   "cell_type": "code",
   "execution_count": 46,
   "outputs": [
    {
     "name": "stdout",
     "text": [
      "The total amount of unique tokens in this corpus is: 250,178\n"
     ],
     "output_type": "stream"
    }
   ],
   "source": [
    "print(f'The total amount of unique tokens in this corpus is: {len(unique_tokens):,}')"
   ],
   "metadata": {
    "collapsed": false,
    "pycharm": {
     "name": "#%%\n",
     "is_executing": false
    }
   }
  },
  {
   "cell_type": "markdown",
   "source": [
    "## Taking the most common words, how many unique words represent half of the total words in the corpus?\n",
    "For this step, we can take our counter object, pass it to a Pandas dataframe, and use cumulative sum to determine the 50%\n",
    "mark."
   ],
   "metadata": {
    "collapsed": false
   }
  },
  {
   "cell_type": "code",
   "execution_count": 47,
   "outputs": [],
   "source": [
    "# pass counter object to dataframe\n",
    "counted_tokens_df = pd.DataFrame.from_dict(counted_tokens, orient='index').reset_index()\n",
    "counted_tokens_df.columns = ['token', 'ct']\n",
    "counted_tokens_df = counted_tokens_df.sort_values('ct', ascending=False)"
   ],
   "metadata": {
    "collapsed": false,
    "pycharm": {
     "name": "#%%\n",
     "is_executing": false
    }
   }
  },
  {
   "cell_type": "code",
   "execution_count": 99,
   "outputs": [
    {
     "name": "stdout",
     "text": [
      "There are 546 unique words that represent 50% of all the words in the corpus\n"
     ],
     "output_type": "stream"
    }
   ],
   "source": [
    "# generate cumulative sum and relative frequency columns\n",
    "counted_tokens_df['cumulative_count'] = counted_tokens_df['ct'].cumsum()\n",
    "counted_tokens_df['relative_frequency'] = counted_tokens_df['ct'] / len(all_words)\n",
    "counted_tokens_df['ct_rank'] = counted_tokens_df['ct'].rank(ascending=False)\n",
    "\n",
    "half_of_all_words = len(all_words) / 2\n",
    "\n",
    "half_of_total_words_df = counted_tokens_df[counted_tokens_df['cumulative_count'] <= half_of_all_words]\n",
    "\n",
    "print(f'There are {len(half_of_total_words_df):,} unique words that represent 50% of all the words in the corpus')"
   ],
   "metadata": {
    "collapsed": false,
    "pycharm": {
     "name": "#%%\n",
     "is_executing": false
    }
   }
  },
  {
   "cell_type": "markdown",
   "source": [
    "## Identify the 200 highest frequency words in this corpus.\n",
    "The Counter class from the collections module allows us to easily get this. We can also use the dataframe created previous and just index.\n",
    "Both methods will get the same answer, its just a matter of presentation."
   ],
   "metadata": {
    "collapsed": false
   }
  },
  {
   "cell_type": "code",
   "execution_count": 55,
   "outputs": [
    {
     "data": {
      "text/plain": "[('the', 784539),\n ('to', 578784),\n ('in', 490336),\n ('and', 442792),\n ('of', 440268),\n ('for', 429110),\n ('s', 419333),\n ('a', 341655),\n ('on', 251682),\n ('at', 235754),\n ('with', 214755),\n ('?', 179857),\n ('new', 165883),\n ('is', 154877),\n ('your', 108077),\n ('from', 88985),\n ('day', 87963),\n ('!', 79708),\n ('video', 79690),\n ('you', 75913),\n ('by', 68283),\n ('this', 65957),\n ('2', 60865),\n ('be', 60846),\n ('it', 57726),\n ('week', 56749),\n ('up', 56274),\n ('part', 55820),\n ('2010', 51484),\n ('how', 51140),\n ('what', 50895),\n ('season', 50785),\n ('as', 50203),\n ('are', 50079),\n ('out', 49877),\n ('3', 48025),\n ('free', 47010),\n ('will', 46025),\n ('more', 45617),\n ('2012', 45540),\n ('not', 43971),\n ('1', 43962),\n ('2011', 42799),\n ('show', 42179),\n ('about', 41561),\n ('first', 40944),\n ('an', 40917),\n ('t', 40783),\n ('one', 40302),\n ('year', 39460),\n ('photos', 39281),\n ('5', 38691),\n ('weekend', 37824),\n ('time', 37399),\n ('after', 37170),\n ('get', 36437),\n ('can', 36156),\n ('over', 35636),\n ('top', 35417),\n ('star', 34943),\n ('best', 34592),\n ('world', 34575),\n ('4', 34536),\n ('all', 34498),\n ('may', 34435),\n ('10', 33430),\n ('home', 32753),\n ('or', 32133),\n ('2013', 30931),\n ('no', 30323),\n ('city', 30292),\n ('man', 30221),\n ('that', 30135),\n ('obama', 30110),\n ('summer', 30047),\n ('state', 29935),\n ('american', 29813),\n ('off', 29539),\n ('back', 29427),\n ('dog', 29402),\n ('music', 29288),\n ('game', 29263),\n ('big', 28968),\n ('two', 28853),\n ('i', 28619),\n ('review', 28438),\n ('do', 28092),\n ('family', 28055),\n ('has', 27556),\n ('school', 27497),\n ('his', 27359),\n ('have', 26404),\n ('her', 26200),\n ('live', 26075),\n ('national', 25980),\n ('life', 25805),\n ('festival', 25479),\n ('county', 25229),\n ('news', 25038),\n ('make', 24615),\n ('who', 24471),\n ('now', 24150),\n ('night', 24078),\n ('win', 24039),\n ('food', 23995),\n ('love', 23297),\n ('2014', 22836),\n ('help', 22304),\n ('good', 21977),\n ('vs', 21970),\n ('tips', 21724),\n ('women', 21566),\n ('art', 21473),\n ('says', 21372),\n ('san', 21229),\n ('into', 21159),\n ('great', 21058),\n ('u', 20981),\n ('events', 20880),\n ('kids', 20755),\n ('interview', 20556),\n ('children', 20452),\n ('today', 20355),\n ('party', 20352),\n ('house', 20341),\n ('fall', 20329),\n ('tv', 20295),\n ('local', 20245),\n ('gets', 20023),\n ('old', 20018),\n ('11', 19971),\n ('movie', 19896),\n ('fashion', 19856),\n ('park', 19800),\n ('why', 19741),\n ('health', 19722),\n ('6', 19711),\n ('black', 19709),\n ('high', 19620),\n ('tour', 19556),\n ('awards', 19486),\n ('stars', 19330),\n ('7', 19254),\n ('chicago', 19028),\n ('series', 19011),\n ('holiday', 18878),\n ('talks', 18646),\n ('book', 18638),\n ('spring', 18596),\n ('12', 18555),\n ('dead', 18539),\n ('their', 18488),\n ('film', 18455),\n ('coming', 18392),\n ('preview', 18361),\n ('america', 18345),\n ('friday', 18327),\n ('event', 18321),\n ('christmas', 18183),\n ('march', 18163),\n ('take', 17812),\n ('8', 17810),\n ('april', 17718),\n ('fun', 17614),\n ('york', 17467),\n ('july', 17454),\n ('real', 17446),\n ('weather', 17434),\n ('set', 17208),\n ('but', 17023),\n ('9', 16760),\n ('open', 16752),\n ('next', 16581),\n ('report', 16451),\n ('go', 16440),\n ('when', 16408),\n ('annual', 16372),\n ('against', 16370),\n ('red', 16297),\n ('area', 16271),\n ('down', 16261),\n ('look', 16219),\n ('death', 16219),\n ('announces', 16066),\n ('center', 16038),\n ('history', 15999),\n ('saturday', 15841),\n ('green', 15799),\n ('through', 15541),\n ('three', 15523),\n ('us', 15350),\n ('should', 15331),\n ('florida', 15312),\n ('baby', 15219),\n ('release', 15203),\n ('child', 15184),\n ('june', 15090),\n ('was', 15019),\n ('offers', 14991),\n ('month', 14919)]"
     },
     "metadata": {},
     "output_type": "execute_result",
     "execution_count": 55
    },
    {
     "data": {
      "text/plain": "       token      ct\n50       the  784539\n26        to  578784\n5         in  490336\n42       and  442792\n10        of  440268\n...      ...     ...\n1290   child   15184\n8909    june   15090\n115      was   15019\n886   offers   14991\n315    month   14919\n\n[200 rows x 2 columns]",
      "text/html": "<div>\n<style scoped>\n    .dataframe tbody tr th:only-of-type {\n        vertical-align: middle;\n    }\n\n    .dataframe tbody tr th {\n        vertical-align: top;\n    }\n\n    .dataframe thead th {\n        text-align: right;\n    }\n</style>\n<table border=\"1\" class=\"dataframe\">\n  <thead>\n    <tr style=\"text-align: right;\">\n      <th></th>\n      <th>token</th>\n      <th>ct</th>\n    </tr>\n  </thead>\n  <tbody>\n    <tr>\n      <td>50</td>\n      <td>the</td>\n      <td>784539</td>\n    </tr>\n    <tr>\n      <td>26</td>\n      <td>to</td>\n      <td>578784</td>\n    </tr>\n    <tr>\n      <td>5</td>\n      <td>in</td>\n      <td>490336</td>\n    </tr>\n    <tr>\n      <td>42</td>\n      <td>and</td>\n      <td>442792</td>\n    </tr>\n    <tr>\n      <td>10</td>\n      <td>of</td>\n      <td>440268</td>\n    </tr>\n    <tr>\n      <td>...</td>\n      <td>...</td>\n      <td>...</td>\n    </tr>\n    <tr>\n      <td>1290</td>\n      <td>child</td>\n      <td>15184</td>\n    </tr>\n    <tr>\n      <td>8909</td>\n      <td>june</td>\n      <td>15090</td>\n    </tr>\n    <tr>\n      <td>115</td>\n      <td>was</td>\n      <td>15019</td>\n    </tr>\n    <tr>\n      <td>886</td>\n      <td>offers</td>\n      <td>14991</td>\n    </tr>\n    <tr>\n      <td>315</td>\n      <td>month</td>\n      <td>14919</td>\n    </tr>\n  </tbody>\n</table>\n<p>200 rows × 2 columns</p>\n</div>"
     },
     "metadata": {},
     "output_type": "execute_result",
     "execution_count": 55
    }
   ],
   "source": [
    "counted_tokens.most_common(200)"
   ],
   "metadata": {
    "collapsed": false,
    "pycharm": {
     "name": "#%%\n",
     "is_executing": false
    }
   }
  },
  {
   "cell_type": "code",
   "execution_count": 100,
   "outputs": [
    {
     "data": {
      "text/plain": "   token      ct  cumulative_count  relative_frequency  ct_rank\n50   the  784539            784539            0.028013      1.0\n26    to  578784           1363323            0.020666      2.0\n5     in  490336           1853659            0.017508      3.0\n42   and  442792           2296451            0.015810      4.0\n10    of  440268           2736719            0.015720      5.0",
      "text/html": "<div>\n<style scoped>\n    .dataframe tbody tr th:only-of-type {\n        vertical-align: middle;\n    }\n\n    .dataframe tbody tr th {\n        vertical-align: top;\n    }\n\n    .dataframe thead th {\n        text-align: right;\n    }\n</style>\n<table border=\"1\" class=\"dataframe\">\n  <thead>\n    <tr style=\"text-align: right;\">\n      <th></th>\n      <th>token</th>\n      <th>ct</th>\n      <th>cumulative_count</th>\n      <th>relative_frequency</th>\n      <th>ct_rank</th>\n    </tr>\n  </thead>\n  <tbody>\n    <tr>\n      <td>50</td>\n      <td>the</td>\n      <td>784539</td>\n      <td>784539</td>\n      <td>0.028013</td>\n      <td>1.0</td>\n    </tr>\n    <tr>\n      <td>26</td>\n      <td>to</td>\n      <td>578784</td>\n      <td>1363323</td>\n      <td>0.020666</td>\n      <td>2.0</td>\n    </tr>\n    <tr>\n      <td>5</td>\n      <td>in</td>\n      <td>490336</td>\n      <td>1853659</td>\n      <td>0.017508</td>\n      <td>3.0</td>\n    </tr>\n    <tr>\n      <td>42</td>\n      <td>and</td>\n      <td>442792</td>\n      <td>2296451</td>\n      <td>0.015810</td>\n      <td>4.0</td>\n    </tr>\n    <tr>\n      <td>10</td>\n      <td>of</td>\n      <td>440268</td>\n      <td>2736719</td>\n      <td>0.015720</td>\n      <td>5.0</td>\n    </tr>\n  </tbody>\n</table>\n</div>"
     },
     "metadata": {},
     "output_type": "execute_result",
     "execution_count": 100
    }
   ],
   "source": [
    "# this can be used later for the graph\n",
    "most_common_200_df = counted_tokens_df[:200]\n",
    "most_common_200_df.head()"
   ],
   "metadata": {
    "collapsed": false,
    "pycharm": {
     "name": "#%%\n",
     "is_executing": false
    }
   }
  },
  {
   "cell_type": "markdown",
   "source": [
    "## Create a graph that shows the relative frequency of these 200 words."
   ],
   "metadata": {
    "collapsed": false
   }
  },
  {
   "cell_type": "code",
   "execution_count": 96,
   "outputs": [
    {
     "data": {
      "text/plain": "<seaborn.axisgrid.FacetGrid at 0x1c5c779050>"
     },
     "metadata": {},
     "output_type": "execute_result",
     "execution_count": 96
    },
    {
     "data": {
      "text/plain": "(array([  0,   1,   2,   3,   4,   5,   6,   7,   8,   9,  10,  11,  12,\n         13,  14,  15,  16,  17,  18,  19,  20,  21,  22,  23,  24,  25,\n         26,  27,  28,  29,  30,  31,  32,  33,  34,  35,  36,  37,  38,\n         39,  40,  41,  42,  43,  44,  45,  46,  47,  48,  49,  50,  51,\n         52,  53,  54,  55,  56,  57,  58,  59,  60,  61,  62,  63,  64,\n         65,  66,  67,  68,  69,  70,  71,  72,  73,  74,  75,  76,  77,\n         78,  79,  80,  81,  82,  83,  84,  85,  86,  87,  88,  89,  90,\n         91,  92,  93,  94,  95,  96,  97,  98,  99, 100, 101, 102, 103,\n        104, 105, 106, 107, 108, 109, 110, 111, 112, 113, 114, 115, 116,\n        117, 118, 119, 120, 121, 122, 123, 124, 125, 126, 127, 128, 129,\n        130, 131, 132, 133, 134, 135, 136, 137, 138, 139, 140, 141, 142,\n        143, 144, 145, 146, 147, 148, 149, 150, 151, 152, 153, 154, 155,\n        156, 157, 158, 159, 160, 161, 162, 163, 164, 165, 166, 167, 168,\n        169, 170, 171, 172, 173, 174, 175, 176, 177, 178, 179, 180, 181,\n        182, 183, 184, 185, 186, 187, 188, 189, 190, 191, 192, 193, 194,\n        195, 196, 197, 198, 199]), <a list of 200 Text xticklabel objects>)"
     },
     "metadata": {},
     "output_type": "execute_result",
     "execution_count": 96
    },
    {
     "data": {
      "text/plain": "<Figure size 1080x1080 with 1 Axes>",
      "image/png": "[encoded data removed]"
     },
     "metadata": {
      "needs_background": "light"
     },
     "output_type": "display_data"
    }
   ],
   "source": [
    "sns.catplot(x='token', y='relative_frequency', kind='bar', data=most_common_200_df, height=15)\n",
    "plt.xticks(rotation=90, fontweight='light')\n",
    "plt.show()"
   ],
   "metadata": {
    "collapsed": false,
    "pycharm": {
     "name": "#%%\n",
     "is_executing": false
    }
   }
  },
  {
   "cell_type": "markdown",
   "source": [
    "## Does the observed relative frequency of these words follow Zipf’s law? Explain.\n",
    "We can check the 50 and 150th tokens to answer this question"
   ],
   "metadata": {
    "collapsed": false
   }
  },
  {
   "cell_type": "code",
   "execution_count": 102,
   "outputs": [
    {
     "data": {
      "text/plain": "2.12665049851792"
     },
     "metadata": {},
     "output_type": "execute_result",
     "execution_count": 102
    }
   ],
   "source": [
    "counted_tokens_df.iloc[49]['relative_frequency'] / counted_tokens_df.iloc[149]['relative_frequency'] "
   ],
   "metadata": {
    "collapsed": false,
    "pycharm": {
     "name": "#%%\n",
     "is_executing": false
    }
   }
  },
  {
   "cell_type": "markdown",
   "source": [
    "From the calculation above, the 50th token's relative frequency is roughly 2.1x more than the 150th token.\n",
    "From this, we can see that it does not follow Zipf's law because you would expect the 50th token to be 3x more frequent \n",
    "than the 150th token."
   ],
   "metadata": {
    "collapsed": false,
    "pycharm": {
     "name": "#%% md\n"
    }
   }
  },
  {
   "cell_type": "markdown",
   "source": [
    "## In what ways do you think the frequency of the words in this corpus differ from “all words in all corpora.”\n",
    "\n"
   ],
   "metadata": {
    "collapsed": false,
    "pycharm": {
     "name": "#%% md\n"
    }
   }
  }
 ],
 "metadata": {
  "kernelspec": {
   "display_name": "Python 3",
   "language": "python",
   "name": "python3"
  },
  "language_info": {
   "codemirror_mode": {
    "name": "ipython",
    "version": 2
   },
   "file_extension": ".py",
   "mimetype": "text/x-python",
   "name": "python",
   "nbconvert_exporter": "python",
   "pygments_lexer": "ipython2",
   "version": "2.7.6"
  },
  "pycharm": {
   "stem_cell": {
    "cell_type": "raw",
    "source": [],
    "metadata": {
     "collapsed": false
    }
   }
  }
 },
 "nbformat": 4,
 "nbformat_minor": 0
}