{
 "cells": [
  {
   "cell_type": "markdown",
   "metadata": {
    "collapsed": true,
    "pycharm": {
     "name": "#%% md\n"
    }
   },
   "source": [
    "# Data 620 - Project 3\n",
    "Baron Curtin, Heather Geiger\n",
    "\n",
    "Using any of the three classifiers described in chapter 6 of Natural Language Processing with Python,\n",
    "and any features you can think of, build the best name gender classifier you can.\n",
    "\n",
    "Begin by splitting the Names Corpus into three subsets: 500 words for the test set, 500 words for the devtest set, and the remaining 6900 words for the training set. Then, starting with the example name gender\n",
    "classifier, make incremental improvements. Use the dev-test set to check your progress. Once you are\n",
    "satisfied with your classifier, check its final performance on the test set.\n",
    "\n",
    "How does the performance on the test set compare to the performance on the dev-test set? Is this what\n",
    "you'd expect? "
   ]
  },
  {
   "cell_type": "code",
   "execution_count": 5,
   "outputs": [],
   "source": [
    "# library imports\n",
    "from nltk import download\n",
    "from nltk.corpus import names\n",
    "from nltk.util import ngrams\n",
    "from nltk import NaiveBayesClassifier"
   ],
   "metadata": {
    "collapsed": false,
    "pycharm": {
     "name": "#%%\n",
     "is_executing": false
    }
   }
  },
  {
   "cell_type": "code",
   "execution_count": 6,
   "outputs": [
    {
     "name": "stderr",
     "text": [
      "[nltk_data] Downloading package names to\n[nltk_data]     /Users/baron.curtin/nltk_data...\n",
      "[nltk_data]   Unzipping corpora/names.zip.\n"
     ],
     "output_type": "stream"
    },
    {
     "data": {
      "text/plain": "True"
     },
     "metadata": {},
     "output_type": "execute_result",
     "execution_count": 6
    }
   ],
   "source": [
    "# read in names from the files\n",
    "# label each name with corresponding gender\n",
    "# names to be lowercase for easy recognition \n",
    "males = [(name, 'male') for name in names.words('male.txt')]\n",
    "females = [(name, 'female') for name in names.words('female.txt')]\n",
    "\n",
    "# combine lists of names\n"
   ],
   "metadata": {
    "collapsed": false,
    "pycharm": {
     "name": "#%%\n",
     "is_executing": false
    }
   }
  }
 ],
 "metadata": {
  "kernelspec": {
   "display_name": "Python 3",
   "language": "python",
   "name": "python3"
  },
  "language_info": {
   "codemirror_mode": {
    "name": "ipython",
    "version": 2
   },
   "file_extension": ".py",
   "mimetype": "text/x-python",
   "name": "python",
   "nbconvert_exporter": "python",
   "pygments_lexer": "ipython2",
   "version": "2.7.6"
  },
  "pycharm": {
   "stem_cell": {
    "cell_type": "raw",
    "source": [],
    "metadata": {
     "collapsed": false
    }
   }
  }
 },
 "nbformat": 4,
 "nbformat_minor": 0
}