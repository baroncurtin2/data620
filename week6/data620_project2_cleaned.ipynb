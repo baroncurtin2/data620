{
 "cells": [
  {
   "cell_type": "markdown",
   "metadata": {},
   "source": [
    "# Data 620 - Project 2\n",
    "\n",
    "Baron Curtin, Heather Geiger"
   ]
  },
  {
   "cell_type": "markdown",
   "metadata": {},
   "source": [
    "## Introduction"
   ]
  },
  {
   "cell_type": "markdown",
   "metadata": {},
   "source": [
    "In this assignment, we are asked to choose a 2-mode network dataset to simplify and describe.\n",
    "\n",
    "One example of a type of data that could be described as a 2-mode network is gene sets.\n",
    "\n",
    "In human or model organism gene expression data, one will often be looking to find which genes are differentially expressed between two or more conditions.\n",
    "\n",
    "If there is a particular single gene or short list of genes of interest, this data will be simple enough to work with.\n",
    "\n",
    "Often though, you will have too many genes to look at to be able to just review them all manually.\n",
    "\n",
    "So by finding what broader categories (like pathways) that these genes fit into, the data becomes much easier to interpret.\n",
    "\n",
    "MSigDB, the Molecular Signatures Database, has organized a number of sets of genes to use for this type of analysis.\n",
    "\n",
    "In this assignment, we will not be performing gene set enrichment analysis.\n",
    "\n",
    "Rather, we will be exploring the reference used in this analysis (the gene set database) in greater detail.\n",
    "\n",
    "We will use the GO (gene ontology), MF (molecular function) gene sets here. "
   ]
  },
  {
   "cell_type": "markdown",
   "metadata": {},
   "source": [
    "### Import libraries."
   ]
  },
  {
   "cell_type": "code",
   "execution_count": 25,
   "metadata": {
    "pycharm": {
     "is_executing": false,
     "name": "#%%\n"
    }
   },
   "outputs": [],
   "source": [
    "import numpy as np\n",
    "import pandas as pd\n",
    "import networkx as nx\n",
    "import networkx.algorithms.bipartite as bipartite\n",
    "import matplotlib.pyplot as plt\n",
    "import math\n",
    "\n",
    "# additional jupyter setup\n",
    "from IPython.core.interactiveshell import InteractiveShell\n",
    "InteractiveShell.ast_node_interactivity = \"all\"\n",
    "%matplotlib inline"
   ]
  },
  {
   "cell_type": "markdown",
   "metadata": {},
   "source": [
    "## Dataset info"
   ]
  },
  {
   "cell_type": "markdown",
   "metadata": {},
   "source": [
    "Each line in the gene set file contains information about the gene set.\n",
    "\n",
    "The first column is the name of the gene set (e.g. \"GO_CYCLIC_NUCLEOTIDE_PHOSPHODIESTERASE_ACTIVITY\").\n",
    "\n",
    "The second columns is just a web link to get more info on the gene set, and can be discarded.\n",
    "\n",
    "Then have any number of additional fields, where each field contains the name of one gene in the gene set.\n",
    "\n",
    "The data is available for free to download from the MSigDB website.\n",
    "\n",
    "Unfortunately, there are no links that work with download.file or similar commands like wget/curl.\n",
    "\n",
    "But you can paste the following link into a browser to activate download:\n",
    "\n",
    "http://software.broadinstitute.org/gsea/msigdb/download_file.jsp?filePath=/resources/msigdb/7.0/c5.mf.v7.0.symbols.gmt"
   ]
  },
  {
   "cell_type": "markdown",
   "metadata": {},
   "source": [
    "## Data loading and building the network"
   ]
  },
  {
   "cell_type": "markdown",
   "metadata": {},
   "source": [
    "### Read in and format data."
   ]
  },
  {
   "cell_type": "markdown",
   "metadata": {},
   "source": [
    "Read in from \".gmt\" file.\n",
    "\n",
    "For this, we borrow code from GSEApy (https://github.com/zqfang/GSEApy/blob/master/gseapy/parser.py).\n",
    "\n",
    "This will make it so that each gene set is a key in a dictionary.\n",
    "\n",
    "Each value will be a list of genes."
   ]
  },
  {
   "cell_type": "code",
   "execution_count": 26,
   "metadata": {
    "pycharm": {
     "is_executing": false
    }
   },
   "outputs": [],
   "source": [
    "with open(\"c5.mf.v7.0.symbols.gmt\") as genesets:\n",
    "    genesets_dict = { line.strip().split(\"\\t\")[0]: line.strip().split(\"\\t\")[2:]\n",
    "                     for line in genesets.readlines()}    "
   ]
  },
  {
   "cell_type": "markdown",
   "metadata": {},
   "source": [
    "### Build network."
   ]
  },
  {
   "cell_type": "markdown",
   "metadata": {},
   "source": [
    "Add the gene sets as nodes to a network graph."
   ]
  },
  {
   "cell_type": "code",
   "execution_count": 27,
   "metadata": {
    "pycharm": {
     "is_executing": false
    }
   },
   "outputs": [],
   "source": [
    "G = nx.Graph()\n",
    "G.add_nodes_from(list(genesets_dict.keys()),bipartite=0)"
   ]
  },
  {
   "cell_type": "markdown",
   "metadata": {},
   "source": [
    "Add the genes as nodes to a network graph."
   ]
  },
  {
   "cell_type": "code",
   "execution_count": 28,
   "metadata": {
    "pycharm": {
     "is_executing": false
    }
   },
   "outputs": [],
   "source": [
    "list_of_gene_lists = list(genesets_dict.values())\n",
    "flattened_list_of_gene_lists = [item for sublist in list_of_gene_lists for item in sublist]\n",
    "unique_genes = list(set(flattened_list_of_gene_lists))\n",
    "\n",
    "G.add_nodes_from(unique_genes,bipartite=1)"
   ]
  },
  {
   "cell_type": "markdown",
   "metadata": {},
   "source": [
    "Add edges between gene sets and genes by converting the dictionary to a list of tuples."
   ]
  },
  {
   "cell_type": "code",
   "execution_count": 29,
   "metadata": {
    "pycharm": {
     "is_executing": false
    }
   },
   "outputs": [],
   "source": [
    "gene_set_sizes = [len(x) for x in list_of_gene_lists]\n",
    "gene_sets_repeated = [[gene_set] * gene_set_size for gene_set_size,gene_set in zip(gene_set_sizes,list(genesets_dict.keys()))]\n",
    "gene_sets_repeated = [item for sublist in gene_sets_repeated for item in sublist]\n",
    "\n",
    "gene_set_to_gene_tuples = list(zip(flattened_list_of_gene_lists,gene_sets_repeated))\n",
    "\n",
    "G.add_edges_from(gene_set_to_gene_tuples)"
   ]
  },
  {
   "cell_type": "code",
   "execution_count": null,
   "metadata": {
    "pycharm": {
     "is_executing": true,
     "name": "#%%\n"
    }
   },
   "outputs": [
    {
     "data": {
      "text/plain": [
       "<Figure size 3600x1440 with 0 Axes>"
      ]
     },
     "execution_count": 30,
     "metadata": {},
     "output_type": "execute_result"
    }
   ],
   "source": [
    "# draw graph\n",
    "plt.figure(figsize=(50,20))\n",
    "nx.draw_networkx(G)\n",
    "plt.axis('off')"
   ]
  },
  {
   "cell_type": "markdown",
   "metadata": {},
   "source": [
    "## Weighted projection onto gene sets"
   ]
  },
  {
   "cell_type": "markdown",
   "metadata": {},
   "source": [
    "Let's do a simple weighted projection of the network onto the gene sets.\n",
    "\n",
    "For projection onto gene sets, the weighted node degree run with ratio=False will give us the total number of times each gene in a given gene set is found in any other gene set.\n",
    "\n",
    "The weights of each edge between two gene sets will be equal to the number of genes that they share.\n",
    "\n",
    "The only issue with using this value to reduce the network size is that just by chance, larger gene sets are going to be more likely to share common genes with other gene sets.\n",
    "\n",
    "So after we get these values, we will need to normalize for gene set sizes.\n",
    "\n",
    "We will want to add the gene set sizes as an attribute to each gene set node."
   ]
  },
  {
   "cell_type": "code",
   "execution_count": null,
   "metadata": {
    "pycharm": {
     "is_executing": true
    }
   },
   "outputs": [],
   "source": [
    "#Project bipartite graph onto gene set nodes.\n",
    "gene_sets = list(genesets_dict.keys())\n",
    "projected_onto_gene_sets = bipartite.weighted_projected_graph(G,gene_sets,ratio=False)"
   ]
  },
  {
   "cell_type": "code",
   "execution_count": null,
   "metadata": {
    "pycharm": {
     "is_executing": true
    }
   },
   "outputs": [],
   "source": [
    "#Add gene set sizes as node attributes.\n",
    "for gene_set,gene_set_size in zip(gene_sets, gene_set_sizes):\n",
    "    projected_onto_gene_sets.add_nodes_from([(gene_set, {'num_genes':gene_set_size})])\n",
    "\n",
    "# [projected_onto_gene_sets.add_nodes_from([(gene_set,{'num_genes':gene_set_size})]) for gene_set,gene_set_size in zip(gene_sets,gene_set_sizes)]"
   ]
  },
  {
   "cell_type": "markdown",
   "metadata": {},
   "source": [
    "Use the sizes of the gene sets to normalize the weights.\n",
    "\n",
    "Normally would want to use a Fisher exact test as described here:\n",
    "\n",
    "https://www.reddit.com/r/bioinformatics/comments/94fkt8/gostats_hypergeometric_test_calculations/\n",
    "\n",
    "However, this is going to take way too long to apply here.\n",
    "\n",
    "So let's just use mean gene set size."
   ]
  },
  {
   "cell_type": "code",
   "execution_count": null,
   "metadata": {
    "pycharm": {
     "is_executing": true
    }
   },
   "outputs": [],
   "source": [
    "first_names_edges = [set_from for set_from,set_to in projected_onto_gene_sets.edges(data=False)]\n",
    "second_names_edges = [set_to for set_from,set_to in projected_onto_gene_sets.edges(data=False)]\n",
    "first_node_edges_sizes = [projected_onto_gene_sets.node[gene_set]['num_genes'] for gene_set in first_names_edges]\n",
    "second_node_edges_sizes = [projected_onto_gene_sets.node[gene_set]['num_genes'] for gene_set in second_names_edges]"
   ]
  },
  {
   "cell_type": "code",
   "execution_count": null,
   "metadata": {
    "pycharm": {
     "is_executing": true
    }
   },
   "outputs": [],
   "source": [
    "min_gene_set_size_per_node_in_edge = [min(np.asarray([x,y])) \n",
    "                                      for x,y in zip(first_node_edges_sizes, second_node_edges_sizes)]\n",
    "max_gene_set_size_per_node_in_edge = [max(np.asarray([x,y])) \n",
    "                                      for x, y in zip(first_node_edges_sizes,second_node_edges_sizes)]\n",
    "edge_weights = [edata['weight'] \n",
    "                for node_to, node_from, edata in projected_onto_gene_sets.edges(data=True)]"
   ]
  },
  {
   "cell_type": "code",
   "execution_count": null,
   "metadata": {
    "pycharm": {
     "is_executing": true
    }
   },
   "outputs": [],
   "source": [
    "mean_gene_set_size_nodes_between_edges = [np.mean(np.asarray([x,y])) for x,y in zip(min_gene_set_size_per_node_in_edge, max_gene_set_size_per_node_in_edge)]\n",
    "edge_weights_normalized = np.asarray(edge_weights)/mean_gene_set_size_nodes_between_edges"
   ]
  },
  {
   "cell_type": "markdown",
   "metadata": {
    "pycharm": {
     "name": "#%% md\n"
    }
   },
   "source": [
    "## Apply the Island Method\n",
    "\n",
    "In this section, we will look to apply the island method to our gene data. First we must apply our edge weights to our graph"
   ]
  },
  {
   "cell_type": "code",
   "execution_count": null,
   "metadata": {
    "pycharm": {
     "name": "#%%\n"
    }
   },
   "outputs": [],
   "source": [
    "# apply edge weights to the graph\n",
    "weights_dict = {(node_to, node_from): weight\n",
    "                for (node_to, node_from), weight in zip(projected_onto_gene_sets.edges(), edge_weights_normalized)}\n",
    "\n",
    "nx.set_edge_attributes(G, weights_dict, name='weight_norm')"
   ]
  },
  {
   "cell_type": "markdown",
   "metadata": {},
   "source": [
    "### Parameter Tuning\n",
    "We need to decide on an appropriate weight parameter to trim our edges. The mean or the median seem like decent candidates"
   ]
  },
  {
   "cell_type": "code",
   "execution_count": null,
   "metadata": {},
   "outputs": [],
   "source": [
    "# we just need to decide a decide parameter to trim our edges\n",
    "# we can use the mean or median\n",
    "# the median may be more appropriate should there be heavy skew\n",
    "mean_weight = np.mean(edge_weights_normalized)\n",
    "median_weight = np.median(edge_weights_normalized)\n",
    "\n",
    "print('Mean Weight:', mean_weight)\n",
    "print('Median Weight:', median_weight)"
   ]
  },
  {
   "cell_type": "code",
   "execution_count": null,
   "metadata": {
    "pycharm": {
     "is_executing": false,
     "name": "#%%\n"
    }
   },
   "outputs": [],
   "source": [
    "# trim the edges\n",
    "def trim_edges(g, weight=1):\n",
    "    g2 = nx.Graph()\n",
    "    for f, to, edata in g.edges(data=True):\n",
    "        if edata['weight_norm'] > weight:\n",
    "                g2.add_edge(f,to,edata)\n",
    "    return g2\n",
    "\n",
    "# function to apply the island method to the graph\n",
    "def island_method(g, att, iterations=5):\n",
    "    weights= [edata[att] for f, to, edata in g.edges(data=True)]\n",
    "\n",
    "    mn = int(min(weights))\n",
    "    mx = int(max(weights))\n",
    "    #compute the size of the step, so we get a reasonable step in iterations\n",
    "    step = int((mx-mn)/iterations)\n",
    "\n",
    "    return [[threshold, trim_edges(g, threshold)] for threshold in range(mn,mx,step)]"
   ]
  },
  {
   "cell_type": "code",
   "execution_count": null,
   "metadata": {
    "pycharm": {
     "is_executing": false,
     "name": "#%%\n"
    }
   },
   "outputs": [],
   "source": [
    "# apply the island method to our graph\n",
    "cc = nx.connected_component_subgraphs(G)[0]\n",
    "islands = island_method(cc, 'weight_norm')\n",
    "\n",
    "for i in islands:\n",
    "    # print the threshold level, size of the graph, and number of connected components\n",
    "    print i[0], len(i[1]), len(nx.connected_component_subgraphs(i[1]))"
   ]
  }
 ],
 "metadata": {
  "kernelspec": {
   "display_name": "Python 3",
   "language": "python",
   "name": "python3"
  },
  "language_info": {
   "codemirror_mode": {
    "name": "ipython",
    "version": 3
   },
   "file_extension": ".py",
   "mimetype": "text/x-python",
   "name": "python",
   "nbconvert_exporter": "python",
   "pygments_lexer": "ipython3",
   "version": "3.7.4"
  },
  "pycharm": {
   "stem_cell": {
    "cell_type": "raw",
    "metadata": {
     "collapsed": false
    },
    "source": []
   }
  },
  "toc": {
   "base_numbering": 1,
   "nav_menu": {},
   "number_sections": true,
   "sideBar": true,
   "skip_h1_title": false,
   "title_cell": "Table of Contents",
   "title_sidebar": "Contents",
   "toc_cell": false,
   "toc_position": {},
   "toc_section_display": true,
   "toc_window_display": false
  }
 },
 "nbformat": 4,
 "nbformat_minor": 2
}
