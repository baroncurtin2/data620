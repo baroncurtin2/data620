{
 "cells": [
  {
   "cell_type": "markdown",
   "metadata": {},
   "source": [
    "# Data 620 - Project 2\n",
    "\n",
    " Baron Curtin, Heather Geiger"
   ]
  },
  {
   "cell_type": "markdown",
   "metadata": {},
   "source": [
    "## Introduction"
   ]
  },
  {
   "cell_type": "markdown",
   "metadata": {},
   "source": [
    "In this assignment, we are asked to choose a 2-mode network dataset to simplify and describe.\n",
    "\n",
    "One example of a type of data that could be described as a 2-mode network is gene sets.\n",
    "\n",
    "In human or model organism gene expression data, one will often be looking to find which genes are differentially expressed between two or more conditions.\n",
    "\n",
    "If there is a particular single gene or short list of genes of interest, this data will be simple enough to work with.\n",
    "\n",
    "Often though, you will have too many genes to look at to be able to just review them all manually.\n",
    "\n",
    "So by finding what broader categories (like pathways) that these genes fit into, the data becomes much easier to interpret.\n",
    "\n",
    "MSigDB, the Molecular Signatures Database, has organized a number of sets of genes to use for this type of analysis.\n",
    "\n",
    "In this assignment, we will not be performing gene set enrichment analysis.\n",
    "\n",
    "Rather, we will be exploring the reference used in this analysis (the gene set database) in greater detail.\n",
    "\n",
    "We will use the GO (gene ontology), MF (molecular function) gene sets here. "
   ]
  },
  {
   "cell_type": "markdown",
   "metadata": {},
   "source": [
    "## Dataset info"
   ]
  },
  {
   "cell_type": "markdown",
   "metadata": {},
   "source": [
    "Each line in the gene set file contains information about the gene set.\n",
    "\n",
    "The first column is the name of the gene set (e.g. \"GO_CYCLIC_NUCLEOTIDE_PHOSPHODIESTERASE_ACTIVITY\").\n",
    "\n",
    "The second columns is just a web link to get more info on the gene set, and can be discarded.\n",
    "\n",
    "Then have any number of additional fields, where each field contains the name of one gene in the gene set.\n",
    "\n",
    "The data is available for free to download from the MSigDB website.\n",
    "\n",
    "Unfortunately, there are no links that work with download.file or similar commands like wget/curl.\n",
    "\n",
    "But you can paste the following link into a browser to activate download:\n",
    "\n",
    "http://software.broadinstitute.org/gsea/msigdb/download_file.jsp?filePath=/resources/msigdb/7.0/c5.mf.v7.0.symbols.gmt"
   ]
  },
  {
   "cell_type": "markdown",
   "metadata": {},
   "source": [
    "## Data loading and building the network"
   ]
  },
  {
   "cell_type": "markdown",
   "metadata": {},
   "source": [
    "### Import libraries."
   ]
  },
  {
   "cell_type": "code",
   "execution_count": 12,
   "metadata": {
    "pycharm": {
     "is_executing": false
    }
   },
   "outputs": [],
   "source": [
    "import numpy as np\n",
    "import pandas as pd\n",
    "import networkx as nx\n",
    "import networkx.algorithms.bipartite as bipartite\n",
    "import matplotlib.pyplot as plt\n",
    "\n",
    "# additional jupyter setup\n",
    "from IPython.core.interactiveshell import InteractiveShell\n",
    "InteractiveShell.ast_node_interactivity = \"all\"\n",
    "%matplotlib inline"
   ]
  },
  {
   "cell_type": "markdown",
   "metadata": {},
   "source": [
    "### Read in and format data."
   ]
  },
  {
   "cell_type": "markdown",
   "metadata": {},
   "source": [
    "Read in from \".gmt\" file.\n",
    "\n",
    "For this, we borrow code from GSEApy (https://github.com/zqfang/GSEApy/blob/master/gseapy/parser.py).\n",
    "\n",
    "This will make it so that each gene set is a key in a dictionary.\n",
    "\n",
    "Each value will be a list of genes."
   ]
  },
  {
   "cell_type": "code",
   "execution_count": 2,
   "metadata": {
    "pycharm": {
     "is_executing": false
    }
   },
   "outputs": [],
   "source": [
    "with open(\"c5.mf.v7.0.symbols.gmt\") as genesets:\n",
    "    genesets_dict = { line.strip().split(\"\\t\")[0]: line.strip().split(\"\\t\")[2:]\n",
    "                     for line in genesets.readlines()}    "
   ]
  },
  {
   "cell_type": "markdown",
   "metadata": {},
   "source": [
    "### Build network."
   ]
  },
  {
   "cell_type": "markdown",
   "metadata": {},
   "source": [
    "Add the gene sets as nodes to a network graph."
   ]
  },
  {
   "cell_type": "code",
   "execution_count": 3,
   "metadata": {
    "pycharm": {
     "is_executing": false
    }
   },
   "outputs": [],
   "source": [
    "G = nx.Graph()\n",
    "G.add_nodes_from(list(genesets_dict.keys()),bipartite=0)"
   ]
  },
  {
   "cell_type": "markdown",
   "metadata": {},
   "source": [
    "Add the genes as nodes to a network graph."
   ]
  },
  {
   "cell_type": "code",
   "execution_count": 4,
   "metadata": {
    "pycharm": {
     "is_executing": false
    }
   },
   "outputs": [],
   "source": [
    "list_of_gene_lists = list(genesets_dict.values())\n",
    "flattened_list_of_gene_lists = [item for sublist in list_of_gene_lists for item in sublist]\n",
    "unique_genes = list(set(flattened_list_of_gene_lists))\n",
    "\n",
    "G.add_nodes_from(unique_genes,bipartite=1)"
   ]
  },
  {
   "cell_type": "markdown",
   "metadata": {},
   "source": [
    "Add edges between gene sets and genes by converting the dictionary to a list of tuples."
   ]
  },
  {
   "cell_type": "code",
   "execution_count": 5,
   "metadata": {
    "pycharm": {
     "is_executing": false
    }
   },
   "outputs": [],
   "source": [
    "gene_set_sizes = [len(x) for x in list_of_gene_lists]\n",
    "gene_sets_repeated = [[gene_set] * gene_set_size for gene_set_size,gene_set in zip(gene_set_sizes,list(genesets_dict.keys()))]\n",
    "gene_sets_repeated = [item for sublist in gene_sets_repeated for item in sublist]\n",
    "\n",
    "gene_set_to_gene_tuples = list(zip(flattened_list_of_gene_lists,gene_sets_repeated))\n",
    "\n",
    "G.add_edges_from(gene_set_to_gene_tuples)"
   ]
  },
  {
   "cell_type": "code",
   "execution_count": 13,
   "outputs": [
    {
     "data": {
      "text/plain": "<Figure size 432x288 with 1 Axes>",
      "image/png": "[encoded data removed]"
     },
     "metadata": {},
     "output_type": "display_data"
    }
   ],
   "source": [
    "# draw graph\n",
    "nx.draw_networkx(G)\n",
    "plt.show()"
   ],
   "metadata": {
    "collapsed": false,
    "pycharm": {
     "name": "#%%\n",
     "is_executing": false
    }
   }
  }
 ],
 "metadata": {
  "kernelspec": {
   "display_name": "Python 3",
   "language": "python",
   "name": "python3"
  },
  "language_info": {
   "codemirror_mode": {
    "name": "ipython",
    "version": 3
   },
   "file_extension": ".py",
   "mimetype": "text/x-python",
   "name": "python",
   "nbconvert_exporter": "python",
   "pygments_lexer": "ipython3",
   "version": "3.7.1"
  },
  "pycharm": {
   "stem_cell": {
    "cell_type": "raw",
    "source": [],
    "metadata": {
     "collapsed": false
    }
   }
  }
 },
 "nbformat": 4,
 "nbformat_minor": 2
}